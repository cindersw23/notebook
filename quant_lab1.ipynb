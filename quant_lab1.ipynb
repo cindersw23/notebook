{
 "cells": [
  {
   "cell_type": "code",
   "execution_count": null,
   "id": "6144dea9",
   "metadata": {
    "deletable": false,
    "editable": false
   },
   "outputs": [],
   "source": [
    "# Initialize Otter\n",
    "import otter\n",
    "grader = otter.Notebook(\"bondwindowdressing.ipynb\")"
   ]
  },
  {
   "cell_type": "markdown",
   "id": "f51283a0",
   "metadata": {},
   "source": [
    "# Quantitative Research Lab: Discovering Trade Ideas"
   ]
  },
  {
   "cell_type": "markdown",
   "id": "471f527d",
   "metadata": {},
   "source": [
    "This lab assignment aims to help guide you through the process of analyzing data to discover potential trading ideas in financial markets"
   ]
  },
  {
   "cell_type": "markdown",
   "id": "3316ff2c",
   "metadata": {},
   "source": [
    "# Importing Libraries"
   ]
  },
  {
   "cell_type": "code",
   "execution_count": null,
   "id": "67467747",
   "metadata": {},
   "outputs": [],
   "source": [
    "import yfinance as yf\n",
    "import pandas as pd\n",
    "import numpy as np\n",
    "import matplotlib.pyplot as plt\n",
    "import warnings\n",
    "warnings.filterwarnings('ignore')"
   ]
  },
  {
   "cell_type": "markdown",
   "id": "9aa82d67",
   "metadata": {},
   "source": [
    "# Data Collection"
   ]
  },
  {
   "cell_type": "markdown",
   "id": "5356e3c2",
   "metadata": {},
   "source": [
    "To start, we're going to collect the data we need to analyze the effect. \n",
    "\n",
    "We'll use yfinance, a popular python library for accessing the yahoo finance API for asset price data"
   ]
  },
  {
   "cell_type": "code",
   "execution_count": null,
   "id": "2d69853d",
   "metadata": {},
   "outputs": [],
   "source": [
    "# BEGIN SOLUTION NO PROMPT\n",
    "import yfinance as yf\n",
    "\n",
    "# Define the ticker symbol for TLT\n",
    "ticker_symbol = \"TLT\"\n",
    "\n",
    "start_date = \"2002-12-31\"  \n",
    "end_date = \"2023-01-01\"    \n",
    "\n",
    "# Use yfinance to download the data\n",
    "tlt_data = yf.download(\"TLT\", start=start_date, end=end_date)\n",
    "tltraw = pd.DataFrame(tlt_data)\n",
    "tltraw\n",
    "\n",
    "# END SOLUTION\n",
    "\"\"\" # BEGIN PROMPT\n",
    "import yfinance as yf\n",
    "\n",
    "# Define the ticker symbol as TLT\n",
    "ticker_symbol = \"TLT\"\n",
    "\n",
    "start_date = \"2002-12-31\"  \n",
    "end_date = \"2023-01-01\"    \n",
    "\n",
    "# fill in the correct parameters for the download function\n",
    "# yf.download (asset_symbol_to_download, start= ..., end=...)\n",
    "tlt_data = yf.download(..., start=..., end=...)\n",
    "\n",
    "# turn the data into a dataframe\n",
    "tltraw = pd.DataFrame()\n",
    "tltraw\n",
    "\n",
    "\"\"\" # END PROMPT"
   ]
  },
  {
   "cell_type": "code",
   "execution_count": null,
   "id": "0604ff1a",
   "metadata": {
    "deletable": false,
    "editable": false
   },
   "outputs": [],
   "source": [
    "grader.check(\"q1\")"
   ]
  },
  {
   "cell_type": "markdown",
   "id": "b8211dcd",
   "metadata": {},
   "source": [
    "let's plot the data, to see how it looks!"
   ]
  },
  {
   "cell_type": "code",
   "execution_count": null,
   "id": "4f5a0019",
   "metadata": {},
   "outputs": [],
   "source": [
    "tltraw['Close'].plot()"
   ]
  },
  {
   "cell_type": "code",
   "execution_count": null,
   "id": "c252358a",
   "metadata": {},
   "outputs": [],
   "source": [
    "tltraw['Adj Close'].plot()"
   ]
  },
  {
   "cell_type": "code",
   "execution_count": null,
   "id": "85f0c34c",
   "metadata": {},
   "outputs": [],
   "source": [
    "# adjusted close is basically just the close price, adjusted for stock splits and dividends\n",
    "# the adjusted close price is what you would actually be able to trade, so that's what we look at"
   ]
  },
  {
   "cell_type": "markdown",
   "id": "37122838",
   "metadata": {},
   "source": [
    "### Log vs Simple Returns"
   ]
  },
  {
   "cell_type": "code",
   "execution_count": null,
   "id": "ad25d8eb",
   "metadata": {
    "tags": []
   },
   "outputs": [],
   "source": [
    "def simplereturn(x0,x1):\n",
    "    return ...\n",
    "def logreturn(x0,x1):\n",
    "    return ...\n",
    "def logtosimple(r):\n",
    "    return ...\n",
    "def simpletolog(r):\n",
    "    return ...\n",
    "\n",
    "tltdf = tltraw[['Adj Close']]\n",
    "\n",
    "tltdf['logreturn'] = logreturn()\n",
    "tltdf\n",
    "tltdf['logreturn'].cumsum().plot()"
   ]
  },
  {
   "cell_type": "code",
   "execution_count": null,
   "id": "1a9559b1",
   "metadata": {
    "deletable": false,
    "editable": false
   },
   "outputs": [],
   "source": [
    "grader.check(\"q2\")"
   ]
  },
  {
   "cell_type": "markdown",
   "id": "6185e783",
   "metadata": {},
   "source": [
    "# Exploring Effect"
   ]
  },
  {
   "cell_type": "markdown",
   "id": "127bde9b",
   "metadata": {},
   "source": [
    "since we're looking at an effect that happens during the beginning and end of a month, we'll want to start by grouping our data based on the day of the month"
   ]
  },
  {
   "cell_type": "code",
   "execution_count": null,
   "id": "8c2188f9",
   "metadata": {
    "tags": []
   },
   "outputs": [],
   "source": [
    "\n",
    "\n",
    "tltdf['dayofmonth'] = ... # use the index of the dataframe, and the .day accessor\n",
    "dom_mean_logret = tltdf.groupby(...).function()['column'] # input the correct column to group on, column to view, and aggregation function\n"
   ]
  },
  {
   "cell_type": "code",
   "execution_count": null,
   "id": "e6e14b24",
   "metadata": {
    "deletable": false,
    "editable": false
   },
   "outputs": [],
   "source": [
    "grader.check(\"q3\")"
   ]
  },
  {
   "cell_type": "markdown",
   "id": "899661af",
   "metadata": {},
   "source": [
    "now that we've grouped the data successfully, we'll look at the average logreturn by day, to see if anything interesting pops out"
   ]
  },
  {
   "cell_type": "markdown",
   "id": "0dab30f0",
   "metadata": {},
   "source": [
    "# what do you expect to see in the data? "
   ]
  },
  {
   "cell_type": "code",
   "execution_count": null,
   "id": "4920228a",
   "metadata": {},
   "outputs": [],
   "source": [
    "plt.bar(dom_mean_logret.index, dom_mean_logret)"
   ]
  },
  {
   "cell_type": "markdown",
   "id": "893607f7",
   "metadata": {},
   "source": [
    "# what do you notice in the data? "
   ]
  },
  {
   "cell_type": "markdown",
   "id": "79e9be68",
   "metadata": {},
   "source": [
    "# coming up with a basic trading rule"
   ]
  },
  {
   "cell_type": "code",
   "execution_count": null,
   "id": "ca93b1bb",
   "metadata": {
    "tags": []
   },
   "outputs": [],
   "source": [
    "\n",
    "\n",
    "# we'll first want to group the data by months, as we're studying a month by month effect\n",
    "\n",
    "# you can pass lists into groupby!\n",
    "\n",
    "tltdf_months = tltdf.groupby([tltdf.index., tltdf.index.])\n",
    "\n",
    "# now, we want to create a function that we can apply to each group\n",
    "# test out what one of the groups looks like, see what september 2022 looks like\n",
    "\n",
    "sep2022 = tltdf_months.get_group((...,...))\n",
    "\n",
    "# try to get the sum of the log returns of the first and last 5 days\n",
    "# hint: use the pandas iloc accessor\n",
    "\n",
    "last_5_long_922 = sep2022\n",
    "first_5_short_922 = sep2022\n"
   ]
  },
  {
   "cell_type": "code",
   "execution_count": null,
   "id": "81c68345",
   "metadata": {
    "deletable": false,
    "editable": false
   },
   "outputs": [],
   "source": [
    "grader.check(\"q4\")"
   ]
  },
  {
   "cell_type": "markdown",
   "id": "de421409",
   "metadata": {},
   "source": [
    "calculate what would happen if we were long during the last five months, and short during the first five months"
   ]
  },
  {
   "cell_type": "code",
   "execution_count": null,
   "id": "b309ef63",
   "metadata": {
    "tags": []
   },
   "outputs": [],
   "source": [
    "\n",
    "# generalize the above into a function that we can run on every group (test it on september 2022: you should get the same number as before)\n",
    "def calculate_returns(group, n_days):\n",
    "    # when we're long, last n days\n",
    "    last_5_sum = \n",
    "    # when we're short, first n days\n",
    "    first_5_sum = \n",
    "    # combine\n",
    "    return last_5_sum + first_5_sum\n",
    "    \n",
    "calculate_returns(sep2022, 5)\n",
    "\n",
    "# now let's apply it to every month in the data\n",
    "monthly_returns = tltdf_months.apply(calculate_returns, 5)\n",
    "monthly_returns\n"
   ]
  },
  {
   "cell_type": "code",
   "execution_count": null,
   "id": "c905bc0d",
   "metadata": {
    "deletable": false,
    "editable": false
   },
   "outputs": [],
   "source": [
    "grader.check(\"q5\")"
   ]
  },
  {
   "cell_type": "markdown",
   "id": "8b393e80",
   "metadata": {},
   "source": [
    "here's a visualization"
   ]
  },
  {
   "cell_type": "code",
   "execution_count": null,
   "id": "e5f7f681",
   "metadata": {},
   "outputs": [],
   "source": [
    "# Plot the bar chart\n",
    "plt.figure(figsize=(12, 6))\n",
    "monthly_returns.plot(kind='bar')"
   ]
  },
  {
   "cell_type": "markdown",
   "id": "ff8edf59",
   "metadata": {},
   "source": [
    "since we can add log returns, we add up all the log returns in the above to see how the strategy does over time"
   ]
  },
  {
   "cell_type": "markdown",
   "id": "6ec720e6",
   "metadata": {},
   "source": [
    "### where do you expect the strategy to do well? when do you expect it to do worse?"
   ]
  },
  {
   "cell_type": "code",
   "execution_count": null,
   "id": "dcf8f323",
   "metadata": {},
   "outputs": [],
   "source": [
    "monthly_returns.cumsum().plot()"
   ]
  },
  {
   "cell_type": "markdown",
   "id": "dfb45ff2",
   "metadata": {},
   "source": [
    "### where did  the strategy do well? where did it do worse?"
   ]
  },
  {
   "cell_type": "code",
   "execution_count": null,
   "id": "8119f312",
   "metadata": {},
   "outputs": [],
   "source": []
  },
  {
   "cell_type": "markdown",
   "id": "7472456a",
   "metadata": {},
   "source": [
    "### what's missing from this that makes it not a 'backtest'? why wouldn't we make this much money if we started trading this today?"
   ]
  },
  {
   "cell_type": "code",
   "execution_count": null,
   "id": "bba5bef8",
   "metadata": {},
   "outputs": [],
   "source": []
  },
  {
   "cell_type": "markdown",
   "id": "a7ac5b39",
   "metadata": {},
   "source": [
    "# Risk Premia Effect?"
   ]
  },
  {
   "cell_type": "markdown",
   "id": "bb36e440",
   "metadata": {},
   "source": [
    "maybe the returns at the end of the month are higher because we see bigger movements at the end of the month\n",
    "\n",
    "how can we test this?"
   ]
  },
  {
   "cell_type": "code",
   "execution_count": null,
   "id": "27d336dc",
   "metadata": {},
   "outputs": [],
   "source": [
    "mean_log = tltdf.groupby('dayofmonth').mean()['logreturn']\n",
    "abs_mean_log = np.abs(mean_log)\n",
    "plt.bar(abs_mean_log.index, abs_mean_log)"
   ]
  },
  {
   "cell_type": "markdown",
   "id": "c302336e",
   "metadata": {},
   "source": [
    "### what does the data show? do you think this effect is a risk premia?"
   ]
  },
  {
   "cell_type": "code",
   "execution_count": null,
   "id": "ed817669",
   "metadata": {},
   "outputs": [],
   "source": []
  },
  {
   "cell_type": "markdown",
   "id": "2270ce1b",
   "metadata": {},
   "source": [
    "# Other Assets?"
   ]
  },
  {
   "cell_type": "markdown",
   "id": "1ed0431e",
   "metadata": {},
   "source": [
    "lets generalize some of our functions from before, so they're easier to use in the future"
   ]
  },
  {
   "cell_type": "code",
   "execution_count": null,
   "id": "cc52ea38",
   "metadata": {
    "tags": []
   },
   "outputs": [],
   "source": [
    "\n",
    "# lets make the downloading and preprocessing data easy to use\n",
    "\n",
    "def processData(ticker, start_date = \"2002-12-31\", end_date = \"2023-01-01\"):\n",
    "    # get data\n",
    "    ticker_data = ...\n",
    "    ticker_raw = ...\n",
    "    # add log return column\n",
    "    ticker_raw['logreturn'] = ...\n",
    "    return ticker_df\n",
    "    \n",
    "spydf = processData(ticker=\"SPY\")\n",
    "spydf\n",
    "\n",
    "# we can also make our plotting returns by day of month function easy to use so we can run analysis quickly\n",
    "\n",
    "def plot_mean_dom_return(df):\n",
    "    df['dayofmonth'] = \n",
    "    dom_mean_logret = ...\n",
    "    plt.bar(..., ...)\n",
    "    return dom_mean_logret\n",
    "\n",
    "plot_mean_dom_return(spydf)\n",
    "    \n",
    "def df_months(df):\n",
    "    df_months = ...\n",
    "    return df_months\n",
    "\n",
    "df_months(spydf)\n",
    "\n",
    "spy_monthly_returns = df_months.apply(calculate_returns, 5)\n",
    "\n",
    "# refer to how you did these things above, so you can apply it here!"
   ]
  },
  {
   "cell_type": "code",
   "execution_count": null,
   "id": "5599325c",
   "metadata": {
    "deletable": false,
    "editable": false
   },
   "outputs": [],
   "source": [
    "grader.check(\"q6\")"
   ]
  },
  {
   "cell_type": "markdown",
   "id": "2b29578b",
   "metadata": {},
   "source": [
    "# Other Ideas?"
   ]
  },
  {
   "cell_type": "markdown",
   "id": "d62f0be1",
   "metadata": {},
   "source": [
    "use this notebook as a playground to explore this data and effect further, if you'd like to!"
   ]
  },
  {
   "cell_type": "code",
   "execution_count": null,
   "id": "fb006929",
   "metadata": {},
   "outputs": [],
   "source": []
  },
  {
   "cell_type": "code",
   "execution_count": null,
   "id": "bfa598fe",
   "metadata": {},
   "outputs": [],
   "source": []
  },
  {
   "cell_type": "code",
   "execution_count": null,
   "id": "6d305706",
   "metadata": {},
   "outputs": [],
   "source": []
  },
  {
   "cell_type": "markdown",
   "id": "a7d3bcdb",
   "metadata": {
    "deletable": false,
    "editable": false
   },
   "source": [
    "## Submission\n",
    "\n",
    "Make sure you have run all cells in your notebook in order before running the cell below, so that all images/graphs appear in the output. The cell below will generate a zip file for you to submit. **Please save before exporting!**"
   ]
  },
  {
   "cell_type": "code",
   "execution_count": null,
   "id": "3cbf8c74",
   "metadata": {
    "deletable": false,
    "editable": false
   },
   "outputs": [],
   "source": [
    "# Save your notebook first, then run this cell to export your submission.\n",
    "grader.export(pdf=False, run_tests=True)"
   ]
  },
  {
   "cell_type": "markdown",
   "id": "e6e54076",
   "metadata": {},
   "source": [
    " "
   ]
  }
 ],
 "metadata": {
  "kernelspec": {
   "display_name": "Python 3 (ipykernel)",
   "language": "python",
   "name": "python3"
  },
  "language_info": {
   "codemirror_mode": {
    "name": "ipython",
    "version": 3
   },
   "file_extension": ".py",
   "mimetype": "text/x-python",
   "name": "python",
   "nbconvert_exporter": "python",
   "pygments_lexer": "ipython3",
   "version": "3.8.3"
  },
  "otter": {
   "OK_FORMAT": true,
   "tests": {
    "q1": {
     "name": "q1",
     "points": 2,
     "suites": [
      {
       "cases": [
        {
         "code": ">>> assert(type(tltraw)==pd.core.frame.DataFrame)\n",
         "hidden": false,
         "locked": false,
         "points": 1
        },
        {
         "code": ">>> assert(np.isclose(tltraw['Adj Close'].sum(), 438655.41609191895))\n",
         "hidden": false,
         "locked": false,
         "points": 1
        }
       ],
       "scored": true,
       "setup": "",
       "teardown": "",
       "type": "doctest"
      }
     ]
    },
    "q2": {
     "name": "q2",
     "points": 5,
     "suites": [
      {
       "cases": [
        {
         "code": ">>> assert(np.isclose(logreturn(50,100),np.log(100/50)))\n",
         "hidden": false,
         "locked": false,
         "points": 1
        },
        {
         "code": ">>> assert(np.isclose(simplereturn(50,100),((100-50)/50)))\n",
         "hidden": false,
         "locked": false,
         "points": 1
        },
        {
         "code": ">>> assert(np.isclose(simpletolog(1),np.log(100/50)))\n",
         "hidden": false,
         "locked": false,
         "points": 1
        },
        {
         "code": ">>> assert(np.isclose(logtosimple(simpletolog(1)),1))\n",
         "hidden": false,
         "locked": false,
         "points": 1
        },
        {
         "code": ">>> assert(np.isclose(tltdf['logreturn'].cumsum().values[-1],0.7763374782808363))\n",
         "hidden": false,
         "locked": false,
         "points": 1
        }
       ],
       "scored": true,
       "setup": "",
       "teardown": "",
       "type": "doctest"
      }
     ]
    },
    "q3": {
     "name": "q3",
     "points": 1,
     "suites": [
      {
       "cases": [
        {
         "code": ">>> assert(np.isclose(tltdf.groupby('dayofmonth').mean()['logreturn'].sum(), 0.005626961357926597))\n",
         "hidden": false,
         "locked": false,
         "points": 1
        }
       ],
       "scored": true,
       "setup": "",
       "teardown": "",
       "type": "doctest"
      }
     ]
    },
    "q4": {
     "name": "q4",
     "points": 3,
     "suites": [
      {
       "cases": [
        {
         "code": ">>> assert(sep2022['Adj Close'].sum(), 2164.0055618286133)\n",
         "hidden": false,
         "locked": false,
         "points": 1
        },
        {
         "code": ">>> assert(last_5_long_922, -0.03122994920153321)\n",
         "hidden": false,
         "locked": false,
         "points": 1
        },
        {
         "code": ">>> assert(first_5_short_922, 0.03253599246315185)\n",
         "hidden": false,
         "locked": false,
         "points": 1
        }
       ],
       "scored": true,
       "setup": "",
       "teardown": "",
       "type": "doctest"
      }
     ]
    },
    "q5": {
     "name": "q5",
     "points": 2,
     "suites": [
      {
       "cases": [
        {
         "code": ">>> assert((calculate_returns(sep2022, 5) < 0.0014) and (calculate_returns(sep2022, 5) > 0.0011))\n",
         "hidden": false,
         "locked": false,
         "points": 1
        },
        {
         "code": ">>> assert((monthly_returns.sum() < 1.78) and (monthly_returns.sum() > 1.76))\n",
         "hidden": false,
         "locked": false,
         "points": 1
        }
       ],
       "scored": true,
       "setup": "",
       "teardown": "",
       "type": "doctest"
      }
     ]
    },
    "q6": {
     "name": "q6",
     "points": 2,
     "suites": [
      {
       "cases": [
        {
         "code": ">>> assert(np.isclose(spydf['Adj Close'].sum(), 859909.4116096497))\n",
         "hidden": false,
         "locked": false,
         "points": 1
        },
        {
         "code": ">>> assert((spy_monthly_returns.sum() > -0.119) and (spy_monthly_returns.sum() < -0.117))\n",
         "hidden": false,
         "locked": false,
         "points": 1
        }
       ],
       "scored": true,
       "setup": "",
       "teardown": "",
       "type": "doctest"
      }
     ]
    }
   }
  }
 },
 "nbformat": 4,
 "nbformat_minor": 5
}
